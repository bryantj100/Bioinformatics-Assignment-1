{
 "cells": [
  {
   "cell_type": "code",
   "execution_count": 49,
   "id": "d68cf539",
   "metadata": {},
   "outputs": [
    {
     "name": "stdout",
     "output_type": "stream",
     "text": [
      "Requirement already satisfied: numpy in /usr/local/lib/python3.8/dist-packages (1.21.2)\n",
      "5.18\n"
     ]
    }
   ],
   "source": [
    "!pip install numpy\n",
    "import numpy as np\n",
    "from random import random\n",
    "\n",
    "def waiting_time(probability, pattern) :\n",
    "    \n",
    "    assert abs( sum(probability.values())-1) < 0.01, ''\n",
    "    \n",
    "    pattern_size = len(pattern)\n",
    "    sequence =''\n",
    "    \n",
    "    while len(sequence) < pattern_size or sequence[-pattern_size:] != pattern :\n",
    "        \n",
    "        ran = random()\n",
    "        p = 0\n",
    "        for letter in probability :\n",
    "            p += probability[letter]\n",
    "            if ran<p:\n",
    "                sequence += letter\n",
    "                break\n",
    "                \n",
    "    return len(sequence)\n",
    "\n",
    "    # Composition,\n",
    "probability = dict()\n",
    "\"Pattern = RR\"\n",
    "\"probability['R']=0.5\"\n",
    "\"probability['Y']=0.5\"\n",
    "\"Average = 5.81\"\n",
    "\n",
    "\"probability['R']=0.75\"\n",
    "\"probability['Y']=0.25\"\n",
    "\"Average = 2.97\"\n",
    "\n",
    "\"Pattern = RY\"\n",
    "\"probability['R']=0.5\"\n",
    "\"probability['Y']=0.5\"\n",
    "\"Average = 3.65\"\n",
    "\n",
    "\"probability['R']=0.75\"\n",
    "\"probability['Y']=0.25\"\n",
    "\"Average = 5.18\"\n",
    "\n",
    "    #Pattern\n",
    "pattern = \"RY\"\n",
    "\n",
    "n = 100\n",
    "waiting_times = [waiting_time(probability, pattern) for i in range(n)]\n",
    "print(np.mean(waiting_times))"
   ]
  }
 ],
 "metadata": {
  "kernelspec": {
   "display_name": "Python 3 (ipykernel)",
   "language": "python",
   "name": "python3"
  },
  "language_info": {
   "codemirror_mode": {
    "name": "ipython",
    "version": 3
   },
   "file_extension": ".py",
   "mimetype": "text/x-python",
   "name": "python",
   "nbconvert_exporter": "python",
   "pygments_lexer": "ipython3",
   "version": "3.8.10"
  }
 },
 "nbformat": 4,
 "nbformat_minor": 5
}
